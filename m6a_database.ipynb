{
 "metadata": {
  "name": "",
  "signature": "sha256:eede212b2efeadf980eec7809e8bc930fba9a908a0cd53ca28feb95d31ab5a03"
 },
 "nbformat": 3,
 "nbformat_minor": 0,
 "worksheets": [
  {
   "cells": [
    {
     "cell_type": "heading",
     "level": 1,
     "metadata": {},
     "source": [
      "TPMD: the plant transcriptome methylation database"
     ]
    },
    {
     "cell_type": "heading",
     "level": 4,
     "metadata": {},
     "source": [
      "Abstract: N6-methyladenosine (m6A) in RNA has been reported to regulate many functions. To better study its function and mechanism, we built the first comprehensive database for transcriptome methylation in plant - TPMD. It records publicly available datasets from MeRIP-Seq and m6a-Seq, which are recently developed technologies for interrogating m6A methyl-transcriptome. Using exomePeak and MACS2 algorithms, we identified m6A methylation sites in protein coding mRNAs, lncRNAs and circular RNAs of Arabidopsis. To better display its information, a genome browser to query and visualize context-specific m6A methylation under different sub-species and tissues is provided. TPMD also includes splicing factor and RNA binding proteins binding sites in the browser window for exploring the potential functions of m6A. Moreover, we identified stress responsive genes with RNA-seq differentially expression analysis and collected experimental validated stress responsive genes. m6A peak sites of stress responsive genes were displayed to further explore m6a function in stress response."
     ]
    },
    {
     "cell_type": "heading",
     "level": 4,
     "metadata": {},
     "source": [
      "Pipeline: Firstly, we identified m6A peaks in Arabidopsis with MACS and ExomePeak. Secondly, we characterized these peaks: (1) check how many are located in genes, lncRNAs and circular RNAs respectively; (2) check how many are located in stress responsive genes; (3) check splicing factors and RNA binding proteins binding sites around m6A sites. Thirdly, we built a database to store the data and an interactive web server to display them."
     ]
    },
    {
     "cell_type": "heading",
     "level": 2,
     "metadata": {},
     "source": [
      "Part One. m6A peak sites identification"
     ]
    },
    {
     "cell_type": "heading",
     "level": 3,
     "metadata": {},
     "source": [
      "Firstly, we downloaded MeRIP-Seq and m6a-Seq from SRA and mapped them to the TAIR10 reference genome with Tophat."
     ]
    },
    {
     "cell_type": "heading",
     "level": 3,
     "metadata": {},
     "source": [
      "Secondly, we identified m6A peaks with MACS and ExomePeak and combined peaks."
     ]
    },
    {
     "cell_type": "code",
     "collapsed": false,
     "input": [
      "#!bash ~/sunyd/m6a/script/macs.sh ~/sunyd/m6a/arab_m6aseq\n",
      "#!bash ~/sunyd/m6a/script/exomepeak.sh ~/sunyd/m6a/arab_m6aseq\n",
      "#!bash ~/sunyd/m6a/script/peaks_combine.sh ~/sunyd/m6a/arab_m6aseq"
     ],
     "language": "python",
     "metadata": {},
     "outputs": [],
     "prompt_number": 1
    },
    {
     "cell_type": "heading",
     "level": 3,
     "metadata": {},
     "source": [
      "Thirdly, we searched motif among m6A peaks genes in the first and last exon."
     ]
    },
    {
     "cell_type": "code",
     "collapsed": false,
     "input": [
      "#!bash ~/sunyd/m6a/script/motif_m6a.sh ~/sunyd/m6a/arab_m6aseq"
     ],
     "language": "python",
     "metadata": {},
     "outputs": [],
     "prompt_number": 3
    },
    {
     "cell_type": "heading",
     "level": 2,
     "metadata": {},
     "source": [
      "Part Two. m6A peak sites characterization"
     ]
    },
    {
     "cell_type": "heading",
     "level": 3,
     "metadata": {},
     "source": [
      "Firstly, we checked m6A peak sites intersection with genes, lncRNAs and circular RNAs using bedtools."
     ]
    },
    {
     "cell_type": "code",
     "collapsed": false,
     "input": [
      "#!bash ~/sunyd/m6a/script/peaks_annotation.sh ~/sunyd/m6a/arab_m6aseq"
     ],
     "language": "python",
     "metadata": {},
     "outputs": [],
     "prompt_number": 5
    },
    {
     "cell_type": "heading",
     "level": 3,
     "metadata": {},
     "source": [
      "Secondly, we checked m6A peak sites intersection with stress responsive genes using bedtools."
     ]
    },
    {
     "cell_type": "code",
     "collapsed": false,
     "input": [
      "#!bash ~/sunyd/m6a/script/stress_m6a.sh ~/sunyd/m6a/arab_m6aseq"
     ],
     "language": "python",
     "metadata": {},
     "outputs": [],
     "prompt_number": 6
    },
    {
     "cell_type": "heading",
     "level": 3,
     "metadata": {},
     "source": [
      "Thirdly, we checked m6A peak sites intersection with splicing factors and RNA binding proteins binding sites using bedtools."
     ]
    },
    {
     "cell_type": "code",
     "collapsed": false,
     "input": [
      "#!bash ~/sunyd/m6a/script/rbp_m6a.sh ~/sunyd/m6a/arab_m6aseq"
     ],
     "language": "python",
     "metadata": {},
     "outputs": [],
     "prompt_number": 7
    },
    {
     "cell_type": "heading",
     "level": 3,
     "metadata": {},
     "source": [
      "Fourthly, we formated data for building the database"
     ]
    },
    {
     "cell_type": "code",
     "collapsed": false,
     "input": [
      "#!bash ~/sunyd/m6a/script/database_m6a.sh ~/sunyd/m6a/arab_m6aseq\n",
      "#!bash ~/sunyd/m6a/script/bam_bigwig.sh ~/sunyd/m6a/arab_m6aseq     #####generate bigwig file for Jbrowse####"
     ],
     "language": "python",
     "metadata": {},
     "outputs": [],
     "prompt_number": 9
    },
    {
     "cell_type": "heading",
     "level": 2,
     "metadata": {},
     "source": [
      "Part Three. Database built"
     ]
    },
    {
     "cell_type": "heading",
     "level": 3,
     "metadata": {},
     "source": [
      "The web pages of TPMD were built using a combination of PHP and Bootstrap3. \n",
      "They run on a Linux system (Biolinux 8) and are powered by a Apache server. "
     ]
    },
    {
     "cell_type": "heading",
     "level": 3,
     "metadata": {},
     "source": [
      "All data were stored in a sqlite3 database."
     ]
    },
    {
     "cell_type": "heading",
     "level": 3,
     "metadata": {},
     "source": [
      "We used JBrowse, a web-based application for displaying genomic annotations, to visualize the m6A peak sites, splicing factors and RNA binding proteins binding sites and stress-responsive gene expression level.\u00b6"
     ]
    }
   ],
   "metadata": {}
  }
 ]
}